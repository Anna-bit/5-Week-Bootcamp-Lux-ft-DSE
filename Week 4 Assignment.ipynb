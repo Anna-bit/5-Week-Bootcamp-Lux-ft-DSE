{
 "cells": [
  {
   "cell_type": "code",
   "execution_count": null,
   "id": "ac800351-14ba-4699-9b11-b6b53afb0368",
   "metadata": {},
   "outputs": [],
   "source": [
    "1.Python program to check whether a string is a palindrome or not using a stack.\n",
    "PS: Pay attention to the specified data structure."
   ]
  },
  {
   "cell_type": "code",
   "execution_count": 39,
   "id": "1d446eb9-aaa9-4f6c-bf73-12c864511bca",
   "metadata": {},
   "outputs": [
    {
     "name": "stdin",
     "output_type": "stream",
     "text": [
      "Enter the value: racecar\n"
     ]
    },
    {
     "name": "stdout",
     "output_type": "stream",
     "text": [
      "\"racecar\" is a palindrome.\n"
     ]
    }
   ],
   "source": [
    "# A palindrome is a word, number, phrase, or other sequence of symbols that reads the same backwards as forwards.\n",
    "# The is_palindrome function uses a stack to reverse the string.\n",
    "def is_palindrome(s):\n",
    "    # Create an empty stack\n",
    "    # The stack is used to store characters\n",
    "    stack = []\n",
    "\n",
    "    # Push all characters of the string to the stack by using append \n",
    "    for char in s:\n",
    "        stack.append(char)\n",
    "\n",
    "    # Create a reversed string by slicing the stack.Uses slicing (str[::-1]) to reverse the string.\n",
    "    # Characters are joined in a reverse order to form the reversed string.\n",
    "    reversed_str = ''.join(stack[::-1])\n",
    "\n",
    "    # Compares the original string with the reversed string directly.\n",
    "    return s == reversed_str\n",
    "\n",
    "# Input from the user\n",
    "input_str = input(\"Enter the value:\")\n",
    "\n",
    "# Check if the input string is a palindrome\n",
    "if is_palindrome(input_str):\n",
    "    print(f'\"{input_str}\" is a palindrome.')\n",
    "else:\n",
    "    print(f'\"{input_str}\" is not a palindrome.')\n",
    "# The function uses slicing method for reversal. You can also use a while loop for popping elements from the stack.\n",
    "# The stack is used to store characters and then emptied to form the reversed string.\n",
    "# The program takes input from the user and displays the reversed string.\n",
    "# It checks if the input string is a palindrome and prints the result.\n"
   ]
  },
  {
   "cell_type": "code",
   "execution_count": null,
   "id": "844dc99e-32ad-4248-b448-dde78f9cb378",
   "metadata": {},
   "outputs": [],
   "source": [
    "2) Explain the concept of list comprehension in Python with at least three examples."
   ]
  },
  {
   "cell_type": "code",
   "execution_count": null,
   "id": "e0a2a3f3-159c-4f3f-85c4-3ab04351a7b8",
   "metadata": {},
   "outputs": [],
   "source": [
    "List comprehension in Python allows us to write concise and readable code for creating lists. \n",
    "Instead of using traditional loops and conditionals that might require several lines of code, list comprehension lets us accomplish the same task in a more compact and elegant way. \n",
    "It enables you to create a new list by applying an expression to each element in an existing iterable, such as a list, tuple, or string, with the option to filter elements based on a specific condition.\n",
    "The basic syntax `[expression for item in iterable if condition]` works as follows:\n",
    "\n",
    "expression: This is the operation or calculation applied to each element to generate the value for the new list.\n",
    "item: The variable representing each element as you iterate through the collection.\n",
    "iterable: The collection you're iterating over, such as a list or tuple.\n",
    "condition (optional): A filter that includes only the elements that meet this specified criterion."
   ]
  },
  {
   "cell_type": "code",
   "execution_count": 55,
   "id": "0f4661d2-de3f-405a-aca9-329637436c34",
   "metadata": {},
   "outputs": [
    {
     "name": "stdout",
     "output_type": "stream",
     "text": [
      "[25, 36, 49, 64, 81]\n",
      "['BASKETBALL', 'HOCKEY', 'FOOTBALL']\n",
      "['Odd', 'Even', 'Odd', 'Even', 'Odd']\n"
     ]
    }
   ],
   "source": [
    "# Example 1: Squaring Numbers\n",
    "# Using list comprehension to create a list of squares of numbers from 1 to 10.\n",
    "# the expression 'num** 2' will double each number \n",
    "list_of_numbers = [5, 6, 7, 8, 9]\n",
    "squares = [num**2 for num in list_of_numbers]\n",
    "\n",
    "# Output of code\n",
    "print(squares)\n",
    "squares  =[25, 36, 49, 64, 81]\n",
    "\n",
    "# Example 2: Transforming Strings\n",
    "# Transform strings of words from lowercase to uppercase.\n",
    "# Create a list of words\n",
    "words = ['basketball', 'hockey', 'football']\n",
    "# Expression to capitalize the words\n",
    "upper_words = [word.upper() for word in words]\n",
    "\n",
    "#Display of code\n",
    "print(upper_words)\n",
    "#Output of code\n",
    "['BASKETBALL', 'HOCKEY', 'FOOTBALL']\n",
    "\n",
    "# Example 3:Filtering even and odd numbers\n",
    "# Create a list of numbers.\n",
    "numbers = [1, 2, 3, 4, 5]\n",
    "\n",
    "# List comprehension to label even and odd numbers\n",
    "# If the element meets the if condition num % 2 == 0, 'Even' will be printed out. Else, 'Odd' will be printed out.\n",
    "even_or_odd_number = ['Even' if num % 2 == 0 else 'Odd' for num in numbers]\n",
    "\n",
    "# Display of code\n",
    "print(even_or_odd_number)\n",
    "\n",
    "# Final output of code\n",
    "# ['Odd', 'Even', 'Odd', 'Even', 'Odd']"
   ]
  },
  {
   "cell_type": "code",
   "execution_count": null,
   "id": "10c66bb5-f3bd-4caa-8d79-98af97829e2a",
   "metadata": {},
   "outputs": [],
   "source": [
    "3) Explain what a compound datatype is in Python with three examples."
   ]
  },
  {
   "cell_type": "code",
   "execution_count": null,
   "id": "2cdcd54b-8bb1-48d1-8312-70454963ca44",
   "metadata": {},
   "outputs": [],
   "source": [
    "In Python, a compound data type is a structure that can store multiple values, possibly of different types, within a single entity. \n",
    "These data types enable you to group related items together and manipulate them as a unit. \n",
    "Python offers several built-in compound data types, including lists, tuples, dictionaries, and sets.\n",
    "\n",
    "1. List\n",
    "A list is an ordered collection of items that can include any type, such as integers, strings, or even other lists. \n",
    "Lists are mutable, which means you can change their contents after they are created.\n",
    "\n",
    "example_list = [1, 'cup', 3.14, [1, 2, 3]]\n",
    "\n",
    "·  example_list contains an integer, a string, a float, and another list as elements.\n",
    "·  Lists are indexed, so you can access items using their index, e.g., my_list[0] would return '1'\n",
    "\n",
    "2. Dictionary\n",
    "A dictionary is an unordered collection of key-value pairs, where each key is unique and serves as a reference to its associated value. Dictionaries are mutable, allowing you to add, remove, or modify items as needed.\n",
    "Example:\n",
    "my_dict = {\n",
    "    'name': 'Rose',\n",
    "    'age': 20,\n",
    "    'favorites': {'phone': 'samsung', 'food': 'pizza'}\n",
    "}\n",
    "`my_dict` contains keys 'name', 'age', and 'favorites' with their corresponding values.\n",
    " You can access values using keys, e.g., my_dict['name'] would return 'Rose'.\n",
    "\n",
    "3. Tuple\n",
    "A tuple is similar to a list in that it can hold multiple items of different types, but unlike lists, tuples are immutable. \n",
    "This means that once a tuple is created, its elements cannot be changed. Tuples are often used to store collections of heterogeneous data. \n",
    "They are defined by enclosing the elements in parentheses ().\n",
    "Example:\n",
    "my_tuple = (100, 'banana', 4.15, (8, 7))\n",
    "·  `my_tuple` contains an integer, a string, a float, and another tuple as elements.\n",
    "·  Elements can be accessed by index, e.g., my_tuple[3] would return (8,7).\n"
   ]
  },
  {
   "cell_type": "code",
   "execution_count": null,
   "id": "24918434-f0c4-4e74-9a5b-dc362660afe1",
   "metadata": {},
   "outputs": [],
   "source": [
    "4) Write a function that takes a string and returns a list of bigrams."
   ]
  },
  {
   "cell_type": "code",
   "execution_count": 59,
   "id": "3f1df19b-2632-4fee-9603-20fbd279a470",
   "metadata": {},
   "outputs": [
    {
     "name": "stdout",
     "output_type": "stream",
     "text": [
      "[('I', 'enjoy'), ('enjoy', 'learning'), ('learning', 'data'), ('data', 'analytics')]\n"
     ]
    }
   ],
   "source": [
    "# Bigrams are pairs of consecutive words.\n",
    "# Creating a Bigram function: A list comprehension forms a bigram.\n",
    "def generate_bigrams (text):\n",
    "# Use the split function to split the string you defined above as text into words.\n",
    "# Splitting the text using the split() method breaks the input string into individual words.\n",
    "    words = text.split()    \n",
    "    # Generate bigrams using a list comprehension\n",
    "    # The range(len(words) - 1) specifies the range and ensures we don’t go out of bounds.\n",
    "    bigrams = [(words[i], words[i + 1]) for i in range(len(words) - 1)]\n",
    "    return bigrams\n",
    "# Example usage\n",
    "text = \"I enjoy learning data analytics\"\n",
    "bigrams = generate_bigrams(text)\n",
    "#Display the output\n",
    "print(bigrams) \n",
    "# Expected Output: [('I', 'enjoy'), ('enjoy', 'learning'), ('learning', 'data'),(data, analytics)]\n",
    "# The function returns a list of tuples, where each tuple is a bigram."
   ]
  },
  {
   "cell_type": "code",
   "execution_count": null,
   "id": "4688677b-630c-4b5e-9912-c83ae9539aa4",
   "metadata": {},
   "outputs": [],
   "source": [
    "5) Given a dictionary with keys as letters and values as lists of letters, write a function closest_key to find the key with the input value closest to the beginning of the list."
   ]
  },
  {
   "cell_type": "code",
   "execution_count": 68,
   "id": "edb8c1b7-382d-4e89-a5cb-1ff37a331920",
   "metadata": {},
   "outputs": [
    {
     "name": "stdout",
     "output_type": "stream",
     "text": [
      "x\n"
     ]
    }
   ],
   "source": [
    "# The function closest_key takes two parameters: input_dict (a dictionary with keys as letters and values as lists of letters) and \n",
    "# target_value (the value we are searching for).\n",
    "\n",
    "# closest_key is initialized to None. This will store the key with the closest occurrence of the target_value.\n",
    "def closest_key(input_dict, target_value):\n",
    "    closest_key = None\n",
    "    \n",
    "    # closest_distance is set to float('inf'). \n",
    "    # This represents the smallest index found so far, starting with infinity to ensure any found index will be smaller.\n",
    "    closest_distance = float('inf')\n",
    "\n",
    "    # The function goes through each key-value pair in the dictionary in the list comprehension statement.Uses a for loop.\n",
    "    # For each value_list, it checks if target_value is present using the in operator.\n",
    "    # If target_value is found in the list, the function calculates its index using value_list.index(target_value).\n",
    "    # If the calculated index (distance) is smaller than closest_distance, it updates closest_distance and sets closest_key to the current key.\n",
    "    for key, value_list in input_dict.items():\n",
    "        if target_value in value_list:\n",
    "            distance = value_list.index(target_value)\n",
    "        if distance < closest_distance:\n",
    "            closest_distance = distance\n",
    "            closest_key = key\n",
    "   \n",
    "    #  After the loop completes, the function returns closest_key, which is the key with the closest occurrence of the target_value. \n",
    "    return closest_key\n",
    "\n",
    "# Example usage:\n",
    "input_dict = {\n",
    "    'x': ['a', 'b', 'c'],\n",
    "    'y': ['b', 'c', 'a'],\n",
    "    'z': ['c', 'a', 'b']\n",
    "}\n",
    "\n",
    "target_value = 'a'\n",
    "print(closest_key(input_dict, target_value))  \n",
    "# Output: 'x'\n",
    "# The function goes through each key-value pair in the dictionary. For each list of values, it looks for the target value. \n",
    "# If the target value is found, the function determines its position (index) in the list. \n",
    "# It then keeps track of the key associated with the smallest index, which is ultimately returned.\n"
   ]
  },
  {
   "cell_type": "code",
   "execution_count": null,
   "id": "e8afcbf6-690f-475d-a354-b7c1e6d83f17",
   "metadata": {},
   "outputs": [],
   "source": []
  }
 ],
 "metadata": {
  "kernelspec": {
   "display_name": "Python 3 (ipykernel)",
   "language": "python",
   "name": "python3"
  },
  "language_info": {
   "codemirror_mode": {
    "name": "ipython",
    "version": 3
   },
   "file_extension": ".py",
   "mimetype": "text/x-python",
   "name": "python",
   "nbconvert_exporter": "python",
   "pygments_lexer": "ipython3",
   "version": "3.12.4"
  }
 },
 "nbformat": 4,
 "nbformat_minor": 5
}
